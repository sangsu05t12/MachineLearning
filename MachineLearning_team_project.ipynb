{
  "cells": [
    {
      "cell_type": "code",
      "execution_count": null,
      "metadata": {
        "colab": {
          "base_uri": "https://localhost:8080/"
        },
        "id": "d1BYviw_Szxq",
        "outputId": "b6590ffe-19cb-4c6f-adda-f29527c04f57"
      },
      "outputs": [
        {
          "name": "stdout",
          "output_type": "stream",
          "text": [
            "Unzipped the files in /content/drive/MyDrive/dataset.zip to .\n"
          ]
        }
      ],
      "source": [
        "# ZIP 파일 압축 해제\n",
        "\n",
        "import numpy as np\n",
        "import zipfile\n",
        "import pandas as pd\n",
        "\n",
        "def unzip_folder(zip_path, extract_to='.'):   # content 폴더안에생김\n",
        "  with zipfile.ZipFile(zip_path, 'r') as zip_ref:\n",
        "    zip_ref.extractall(extract_to)\n",
        "    print(f\"Unzipped the files in {zip_path} to {extract_to}\")\n",
        "\n",
        "zip_file_path = '/content/drive/MyDrive/dataset.zip'\n",
        "unzip_folder(zip_file_path)"
      ]
    },
    {
      "cell_type": "code",
      "execution_count": null,
      "metadata": {
        "colab": {
          "base_uri": "https://localhost:8080/"
        },
        "id": "sRNKWtUl9pMu",
        "outputId": "0453f06d-ed30-4af7-c4be-bdbd8a9560f9"
      },
      "outputs": [
        {
          "name": "stdout",
          "output_type": "stream",
          "text": [
            "Mounted at /content/drive\n"
          ]
        }
      ],
      "source": [
        "from google.colab import drive\n",
        "drive.mount('/content/drive')"
      ]
    },
    {
      "cell_type": "code",
      "execution_count": null,
      "metadata": {
        "colab": {
          "base_uri": "https://localhost:8080/"
        },
        "id": "rktXGHDsr_rX",
        "outputId": "81d11ee5-3f16-4a05-d688-eed451765206"
      },
      "outputs": [
        {
          "name": "stdout",
          "output_type": "stream",
          "text": [
            "Number of images: 15000\n",
            "Shape of images: (15000, 32, 32, 1)\n",
            "Shape of labels: (15000,)\n",
            "X_train shape: (12000, 32, 32, 1)\n",
            "y_train shape: (12000,)\n",
            "X_test shape: (3000, 32, 32, 1)\n",
            "y_test shape: (3000,)\n"
          ]
        }
      ],
      "source": [
        "import os\n",
        "import zipfile\n",
        "import numpy as np\n",
        "from keras.preprocessing.image import load_img, img_to_array\n",
        "from keras.utils import to_categorical\n",
        "from sklearn.model_selection import train_test_split\n",
        "\n",
        "def load_images_from_folder(folder, target_size=(32, 32)):\n",
        "    images = []\n",
        "    labels = []  # 0 for 'cat', 1 for 'dog'\n",
        "\n",
        "    # 'shoe' 폴더의 이미지 로드\n",
        "    shoe_folder = os.path.join(folder, 'Shoe')\n",
        "    for filename in os.listdir(shoe_folder):\n",
        "        img_path = os.path.join(shoe_folder, filename)\n",
        "        if (img_path.endswith('.jpg')):\n",
        "            img = load_img(img_path, target_size=target_size, color_mode='grayscale')\n",
        "            images.append(img_to_array(img))\n",
        "            labels.append(0)\n",
        "\n",
        "    # 'sandal' 폴더의 이미지 로드\n",
        "    sandal_folder = os.path.join(folder, 'Sandal')\n",
        "    for filename in os.listdir(sandal_folder):\n",
        "        img_path = os.path.join(sandal_folder, filename)\n",
        "        if (img_path.endswith('.jpg')):\n",
        "            img = load_img(img_path, target_size=target_size, color_mode='grayscale')\n",
        "            images.append(img_to_array(img))\n",
        "            labels.append(1)\n",
        "    # 'boot' 폴더의 이미지 로드\n",
        "    boot_folder = os.path.join(folder, 'Boot')\n",
        "    for filename in os.listdir(boot_folder):\n",
        "        img_path = os.path.join(boot_folder, filename)\n",
        "        if (img_path.endswith('.jpg')):\n",
        "            img = load_img(img_path, target_size=target_size, color_mode='grayscale')\n",
        "            images.append(img_to_array(img))\n",
        "            labels.append(2)\n",
        "\n",
        "    # Convert lists to numpy arrays\n",
        "    images = np.array(images)\n",
        "    labels = np.array(labels)\n",
        "\n",
        "    # 이미지 데이터 정규화 및 라벨 one-hot 인코딩\n",
        "    #images = images / 255.0\n",
        "\n",
        "    return images, labels\n",
        "\n",
        "# 사용 예제\n",
        "folder_path = '/content/Shoe vs Sandal vs Boot Dataset/'  # 현재 폴더 경로 설정\n",
        "X, y = load_images_from_folder(folder_path)\n",
        "\n",
        "print(\"Number of images:\", len(y))\n",
        "print(\"Shape of images:\", X.shape)\n",
        "print(\"Shape of labels:\", y.shape)    #\n",
        "\n",
        "# 데이터 분할\n",
        "X_train, X_test, y_train, y_test = train_test_split(X, y, test_size=0.2, random_state=42)\n",
        "\n",
        "print(\"X_train shape:\", X_train.shape)\n",
        "print(\"y_train shape:\", y_train.shape)\n",
        "print(\"X_test shape:\", X_test.shape)\n",
        "print(\"y_test shape:\", y_test.shape)\n",
        "\n",
        "# 데이터 평탄화 및 정규화\n",
        "X_train_flat = X_train.reshape((X_train.shape[0], -1)) / 255.0\n",
        "X_test_flat = X_test.reshape((X_test.shape[0], -1)) / 255.0"
      ]
    },
    {
      "cell_type": "code",
      "execution_count": null,
      "metadata": {
        "colab": {
          "base_uri": "https://localhost:8080/"
        },
        "id": "k7VJip02ke9H",
        "outputId": "886923eb-5247-431d-ebd2-5bfe90ba9636"
      },
      "outputs": [
        {
          "name": "stderr",
          "output_type": "stream",
          "text": [
            "/usr/local/lib/python3.10/dist-packages/sklearn/ensemble/_base.py:166: FutureWarning: `base_estimator` was renamed to `estimator` in version 1.2 and will be removed in 1.4.\n",
            "  warnings.warn(\n",
            "/usr/local/lib/python3.10/dist-packages/sklearn/svm/_base.py:299: ConvergenceWarning: Solver terminated early (max_iter=1000).  Consider pre-processing your data with StandardScaler or MinMaxScaler.\n",
            "  warnings.warn(\n",
            "/usr/local/lib/python3.10/dist-packages/sklearn/svm/_base.py:299: ConvergenceWarning: Solver terminated early (max_iter=1000).  Consider pre-processing your data with StandardScaler or MinMaxScaler.\n",
            "  warnings.warn(\n",
            "/usr/local/lib/python3.10/dist-packages/sklearn/svm/_base.py:299: ConvergenceWarning: Solver terminated early (max_iter=1000).  Consider pre-processing your data with StandardScaler or MinMaxScaler.\n",
            "  warnings.warn(\n",
            "/usr/local/lib/python3.10/dist-packages/sklearn/svm/_base.py:299: ConvergenceWarning: Solver terminated early (max_iter=1000).  Consider pre-processing your data with StandardScaler or MinMaxScaler.\n",
            "  warnings.warn(\n",
            "/usr/local/lib/python3.10/dist-packages/sklearn/svm/_base.py:299: ConvergenceWarning: Solver terminated early (max_iter=1000).  Consider pre-processing your data with StandardScaler or MinMaxScaler.\n",
            "  warnings.warn(\n",
            "/usr/local/lib/python3.10/dist-packages/sklearn/svm/_base.py:299: ConvergenceWarning: Solver terminated early (max_iter=1000).  Consider pre-processing your data with StandardScaler or MinMaxScaler.\n",
            "  warnings.warn(\n",
            "/usr/local/lib/python3.10/dist-packages/sklearn/svm/_base.py:299: ConvergenceWarning: Solver terminated early (max_iter=1000).  Consider pre-processing your data with StandardScaler or MinMaxScaler.\n",
            "  warnings.warn(\n",
            "/usr/local/lib/python3.10/dist-packages/sklearn/svm/_base.py:299: ConvergenceWarning: Solver terminated early (max_iter=1000).  Consider pre-processing your data with StandardScaler or MinMaxScaler.\n",
            "  warnings.warn(\n",
            "/usr/local/lib/python3.10/dist-packages/sklearn/svm/_base.py:299: ConvergenceWarning: Solver terminated early (max_iter=1000).  Consider pre-processing your data with StandardScaler or MinMaxScaler.\n",
            "  warnings.warn(\n",
            "/usr/local/lib/python3.10/dist-packages/sklearn/svm/_base.py:299: ConvergenceWarning: Solver terminated early (max_iter=1000).  Consider pre-processing your data with StandardScaler or MinMaxScaler.\n",
            "  warnings.warn(\n"
          ]
        },
        {
          "name": "stdout",
          "output_type": "stream",
          "text": [
            "Bagging Model Accuracy : 0.9353\n",
            "Gradient Boosting Classifier Accuracy: 0.8807\n",
            "Random Forest Accuracy: 0.9390\n"
          ]
        }
      ],
      "source": [
        "from sklearn.ensemble import RandomForestClassifier, GradientBoostingClassifier, BaggingClassifier\n",
        "from sklearn.linear_model import LogisticRegression\n",
        "from sklearn.svm import SVC\n",
        "from sklearn.metrics import accuracy_score\n",
        "import numpy as np\n",
        "\n",
        "# 모델 정의  C = 과적합 및 과소적합 방지, max_iter = 훈련 반복 횟수\n",
        "# kernel linear rbf 비교하는거 최종발표에 넣기\n",
        "base_bagging = SVC(kernel='rbf', C=1.0, max_iter=1000, probability=True)\n",
        "\n",
        "# 기본 모델 정의\n",
        "bagging_model = BaggingClassifier(base_estimator=base_bagging, n_estimators=10, random_state=42) # bagging\n",
        "boosting_model = GradientBoostingClassifier(random_state=42, n_estimators=10, learning_rate=0.3) # 의사결정 트리로 고정\n",
        "rf_model = RandomForestClassifier(random_state=42, n_estimators=100)  # Random Forest\n",
        "\n",
        "# 기본 모델 훈련\n",
        "bagging_model.fit(X_train_flat, y_train)\n",
        "boosting_model.fit(X_train_flat, y_train)\n",
        "rf_model.fit(X_train_flat, y_train)\n",
        "\n",
        "# 기본 모델 예측\n",
        "bagging_model_pred = bagging_model.predict(X_test_flat)\n",
        "boosting_model_pred = boosting_model.predict(X_test_flat)\n",
        "rf_pred = rf_model.predict(X_test_flat)\n",
        "\n",
        "bagging_acc = accuracy_score(y_test, bagging_model_pred)\n",
        "boosting_acc = accuracy_score(y_test, boosting_model_pred)\n",
        "rf_acc = accuracy_score(y_test, rf_pred)\n",
        "\n",
        "print(f\"Bagging Model Accuracy : {bagging_acc:.4f}\")\n",
        "print(f\"Gradient Boosting Classifier Accuracy: {boosting_acc:.4f}\")\n",
        "print(f\"Random Forest Accuracy: {rf_acc:.4f}\")"
      ]
    },
    {
      "cell_type": "code",
      "execution_count": null,
      "metadata": {
        "colab": {
          "base_uri": "https://localhost:8080/"
        },
        "id": "jUno4fL1o_oW",
        "outputId": "08f342b3-88e0-4531-fe3e-cdb185cbc103"
      },
      "outputs": [
        {
          "name": "stderr",
          "output_type": "stream",
          "text": [
            "Predicting with Ensemble: 100%|██████████| 3/3 [01:43<00:00, 34.66s/it]"
          ]
        },
        {
          "name": "stdout",
          "output_type": "stream",
          "text": [
            "\n",
            "Weighted Averaging Ensemble Accuracy : 0.9360\n"
          ]
        },
        {
          "name": "stderr",
          "output_type": "stream",
          "text": [
            "\n"
          ]
        }
      ],
      "source": [
        "from sklearn.metrics import accuracy_score\n",
        "import numpy as np\n",
        "from tqdm import tqdm\n",
        "\n",
        "# Weighted Averaging\n",
        "def weighted_predict_ensemble(models, weights, X):\n",
        "    weighted_predictions = np.zeros((X.shape[0], 3))\n",
        "    for model, weight in zip(tqdm(models, desc=\"Predicting with Ensemble\"), weights):\n",
        "        probas = model.predict_proba(X)\n",
        "        weighted_predictions += weight * probas\n",
        "    return weighted_predictions\n",
        "\n",
        "models = [bagging_model, boosting_model, rf_model]\n",
        "\n",
        "weights = np.array([0.4, 0.2, 0.4])\n",
        "\n",
        "aw_ensemble_pred = weighted_predict_ensemble(models, weights, X_test_flat)\n",
        "aw_ensemble_pred_labels = np.argmax(aw_ensemble_pred, axis=1)\n",
        "aw_ensemble_acc = accuracy_score(y_test, aw_ensemble_pred_labels)\n",
        "print()\n",
        "print(f\"Weighted Averaging Ensemble Accuracy : {aw_ensemble_acc:.4f}\")"
      ]
    },
    {
      "cell_type": "code",
      "execution_count": null,
      "metadata": {
        "colab": {
          "base_uri": "https://localhost:8080/"
        },
        "id": "brwaO35jPiIG",
        "outputId": "80ac7168-eaa1-43c1-e5ca-83c66957b5f2"
      },
      "outputs": [
        {
          "name": "stderr",
          "output_type": "stream",
          "text": [
            "Predicting with Ensemble: 100%|██████████| 3/3 [01:46<00:00, 35.57s/it]\n"
          ]
        },
        {
          "name": "stdout",
          "output_type": "stream",
          "text": [
            "Majority Voting Ensemble Accuracy : 0.9327\n"
          ]
        }
      ],
      "source": [
        "# Majority Voting (hard)\n",
        "import numpy as np\n",
        "from scipy.stats import mode\n",
        "from tqdm import tqdm\n",
        "from sklearn.metrics import accuracy_score\n",
        "\n",
        "def majority_voting(models, X):\n",
        "  pred = np.array([model.predict(X) for model in tqdm(models, desc=\"Predicting with Ensemble\")])\n",
        "  vote = mode(pred, axis=0)[0]\n",
        "  return vote.flatten()\n",
        "\n",
        "models = [bagging_model, boosting_model, rf_model]\n",
        "voting_ensemble_pred_labels = majority_voting(models, X_test_flat)\n",
        "voting_ensemble_acc = accuracy_score(y_test, voting_ensemble_pred_labels)\n",
        "print(f\"Majority Voting Ensemble Accuracy : {voting_ensemble_acc:.4f}\")"
      ]
    },
    {
      "cell_type": "code",
      "execution_count": null,
      "metadata": {
        "colab": {
          "base_uri": "https://localhost:8080/"
        },
        "id": "vcJkLdPeS2_Z",
        "outputId": "69e9ec4b-5bec-43b7-975f-c7b1abf2c16a"
      },
      "outputs": [
        {
          "name": "stderr",
          "output_type": "stream",
          "text": [
            "Predicting with Ensemble: 100%|██████████| 3/3 [06:55<00:00, 138.51s/it]\n",
            "Predicting with Ensemble: 100%|██████████| 3/3 [01:51<00:00, 37.32s/it] \n",
            "Predicting with Ensemble: 100%|██████████| 3/3 [06:13<00:00, 124.58s/it]\n",
            "Predicting with Ensemble: 100%|██████████| 3/3 [01:36<00:00, 32.02s/it]\n",
            "/usr/local/lib/python3.10/dist-packages/sklearn/ensemble/_base.py:166: FutureWarning: `base_estimator` was renamed to `estimator` in version 1.2 and will be removed in 1.4.\n",
            "  warnings.warn(\n",
            "/usr/local/lib/python3.10/dist-packages/sklearn/svm/_base.py:299: ConvergenceWarning: Solver terminated early (max_iter=1000).  Consider pre-processing your data with StandardScaler or MinMaxScaler.\n",
            "  warnings.warn(\n",
            "/usr/local/lib/python3.10/dist-packages/sklearn/svm/_base.py:299: ConvergenceWarning: Solver terminated early (max_iter=1000).  Consider pre-processing your data with StandardScaler or MinMaxScaler.\n",
            "  warnings.warn(\n",
            "/usr/local/lib/python3.10/dist-packages/sklearn/svm/_base.py:299: ConvergenceWarning: Solver terminated early (max_iter=1000).  Consider pre-processing your data with StandardScaler or MinMaxScaler.\n",
            "  warnings.warn(\n",
            "/usr/local/lib/python3.10/dist-packages/sklearn/svm/_base.py:299: ConvergenceWarning: Solver terminated early (max_iter=1000).  Consider pre-processing your data with StandardScaler or MinMaxScaler.\n",
            "  warnings.warn(\n",
            "/usr/local/lib/python3.10/dist-packages/sklearn/svm/_base.py:299: ConvergenceWarning: Solver terminated early (max_iter=1000).  Consider pre-processing your data with StandardScaler or MinMaxScaler.\n",
            "  warnings.warn(\n",
            "/usr/local/lib/python3.10/dist-packages/sklearn/svm/_base.py:299: ConvergenceWarning: Solver terminated early (max_iter=1000).  Consider pre-processing your data with StandardScaler or MinMaxScaler.\n",
            "  warnings.warn(\n",
            "/usr/local/lib/python3.10/dist-packages/sklearn/svm/_base.py:299: ConvergenceWarning: Solver terminated early (max_iter=1000).  Consider pre-processing your data with StandardScaler or MinMaxScaler.\n",
            "  warnings.warn(\n",
            "/usr/local/lib/python3.10/dist-packages/sklearn/svm/_base.py:299: ConvergenceWarning: Solver terminated early (max_iter=1000).  Consider pre-processing your data with StandardScaler or MinMaxScaler.\n",
            "  warnings.warn(\n",
            "/usr/local/lib/python3.10/dist-packages/sklearn/svm/_base.py:299: ConvergenceWarning: Solver terminated early (max_iter=1000).  Consider pre-processing your data with StandardScaler or MinMaxScaler.\n",
            "  warnings.warn(\n",
            "/usr/local/lib/python3.10/dist-packages/sklearn/svm/_base.py:299: ConvergenceWarning: Solver terminated early (max_iter=1000).  Consider pre-processing your data with StandardScaler or MinMaxScaler.\n",
            "  warnings.warn(\n",
            "/usr/local/lib/python3.10/dist-packages/sklearn/ensemble/_base.py:166: FutureWarning: `base_estimator` was renamed to `estimator` in version 1.2 and will be removed in 1.4.\n",
            "  warnings.warn(\n",
            "/usr/local/lib/python3.10/dist-packages/sklearn/svm/_base.py:299: ConvergenceWarning: Solver terminated early (max_iter=1000).  Consider pre-processing your data with StandardScaler or MinMaxScaler.\n",
            "  warnings.warn(\n",
            "/usr/local/lib/python3.10/dist-packages/sklearn/svm/_base.py:299: ConvergenceWarning: Solver terminated early (max_iter=1000).  Consider pre-processing your data with StandardScaler or MinMaxScaler.\n",
            "  warnings.warn(\n",
            "/usr/local/lib/python3.10/dist-packages/sklearn/svm/_base.py:299: ConvergenceWarning: Solver terminated early (max_iter=1000).  Consider pre-processing your data with StandardScaler or MinMaxScaler.\n",
            "  warnings.warn(\n",
            "/usr/local/lib/python3.10/dist-packages/sklearn/svm/_base.py:299: ConvergenceWarning: Solver terminated early (max_iter=1000).  Consider pre-processing your data with StandardScaler or MinMaxScaler.\n",
            "  warnings.warn(\n",
            "/usr/local/lib/python3.10/dist-packages/sklearn/svm/_base.py:299: ConvergenceWarning: Solver terminated early (max_iter=1000).  Consider pre-processing your data with StandardScaler or MinMaxScaler.\n",
            "  warnings.warn(\n",
            "/usr/local/lib/python3.10/dist-packages/sklearn/svm/_base.py:299: ConvergenceWarning: Solver terminated early (max_iter=1000).  Consider pre-processing your data with StandardScaler or MinMaxScaler.\n",
            "  warnings.warn(\n",
            "/usr/local/lib/python3.10/dist-packages/sklearn/svm/_base.py:299: ConvergenceWarning: Solver terminated early (max_iter=1000).  Consider pre-processing your data with StandardScaler or MinMaxScaler.\n",
            "  warnings.warn(\n",
            "/usr/local/lib/python3.10/dist-packages/sklearn/svm/_base.py:299: ConvergenceWarning: Solver terminated early (max_iter=1000).  Consider pre-processing your data with StandardScaler or MinMaxScaler.\n",
            "  warnings.warn(\n",
            "/usr/local/lib/python3.10/dist-packages/sklearn/svm/_base.py:299: ConvergenceWarning: Solver terminated early (max_iter=1000).  Consider pre-processing your data with StandardScaler or MinMaxScaler.\n",
            "  warnings.warn(\n",
            "/usr/local/lib/python3.10/dist-packages/sklearn/svm/_base.py:299: ConvergenceWarning: Solver terminated early (max_iter=1000).  Consider pre-processing your data with StandardScaler or MinMaxScaler.\n",
            "  warnings.warn(\n",
            "/usr/local/lib/python3.10/dist-packages/sklearn/ensemble/_base.py:166: FutureWarning: `base_estimator` was renamed to `estimator` in version 1.2 and will be removed in 1.4.\n",
            "  warnings.warn(\n",
            "/usr/local/lib/python3.10/dist-packages/sklearn/svm/_base.py:299: ConvergenceWarning: Solver terminated early (max_iter=1000).  Consider pre-processing your data with StandardScaler or MinMaxScaler.\n",
            "  warnings.warn(\n",
            "/usr/local/lib/python3.10/dist-packages/sklearn/svm/_base.py:299: ConvergenceWarning: Solver terminated early (max_iter=1000).  Consider pre-processing your data with StandardScaler or MinMaxScaler.\n",
            "  warnings.warn(\n",
            "/usr/local/lib/python3.10/dist-packages/sklearn/svm/_base.py:299: ConvergenceWarning: Solver terminated early (max_iter=1000).  Consider pre-processing your data with StandardScaler or MinMaxScaler.\n",
            "  warnings.warn(\n",
            "/usr/local/lib/python3.10/dist-packages/sklearn/svm/_base.py:299: ConvergenceWarning: Solver terminated early (max_iter=1000).  Consider pre-processing your data with StandardScaler or MinMaxScaler.\n",
            "  warnings.warn(\n",
            "/usr/local/lib/python3.10/dist-packages/sklearn/svm/_base.py:299: ConvergenceWarning: Solver terminated early (max_iter=1000).  Consider pre-processing your data with StandardScaler or MinMaxScaler.\n",
            "  warnings.warn(\n",
            "/usr/local/lib/python3.10/dist-packages/sklearn/svm/_base.py:299: ConvergenceWarning: Solver terminated early (max_iter=1000).  Consider pre-processing your data with StandardScaler or MinMaxScaler.\n",
            "  warnings.warn(\n",
            "/usr/local/lib/python3.10/dist-packages/sklearn/svm/_base.py:299: ConvergenceWarning: Solver terminated early (max_iter=1000).  Consider pre-processing your data with StandardScaler or MinMaxScaler.\n",
            "  warnings.warn(\n",
            "/usr/local/lib/python3.10/dist-packages/sklearn/svm/_base.py:299: ConvergenceWarning: Solver terminated early (max_iter=1000).  Consider pre-processing your data with StandardScaler or MinMaxScaler.\n",
            "  warnings.warn(\n",
            "/usr/local/lib/python3.10/dist-packages/sklearn/svm/_base.py:299: ConvergenceWarning: Solver terminated early (max_iter=1000).  Consider pre-processing your data with StandardScaler or MinMaxScaler.\n",
            "  warnings.warn(\n",
            "/usr/local/lib/python3.10/dist-packages/sklearn/svm/_base.py:299: ConvergenceWarning: Solver terminated early (max_iter=1000).  Consider pre-processing your data with StandardScaler or MinMaxScaler.\n",
            "  warnings.warn(\n",
            "/usr/local/lib/python3.10/dist-packages/sklearn/ensemble/_base.py:166: FutureWarning: `base_estimator` was renamed to `estimator` in version 1.2 and will be removed in 1.4.\n",
            "  warnings.warn(\n",
            "/usr/local/lib/python3.10/dist-packages/sklearn/svm/_base.py:299: ConvergenceWarning: Solver terminated early (max_iter=1000).  Consider pre-processing your data with StandardScaler or MinMaxScaler.\n",
            "  warnings.warn(\n",
            "/usr/local/lib/python3.10/dist-packages/sklearn/svm/_base.py:299: ConvergenceWarning: Solver terminated early (max_iter=1000).  Consider pre-processing your data with StandardScaler or MinMaxScaler.\n",
            "  warnings.warn(\n",
            "/usr/local/lib/python3.10/dist-packages/sklearn/svm/_base.py:299: ConvergenceWarning: Solver terminated early (max_iter=1000).  Consider pre-processing your data with StandardScaler or MinMaxScaler.\n",
            "  warnings.warn(\n",
            "/usr/local/lib/python3.10/dist-packages/sklearn/svm/_base.py:299: ConvergenceWarning: Solver terminated early (max_iter=1000).  Consider pre-processing your data with StandardScaler or MinMaxScaler.\n",
            "  warnings.warn(\n",
            "/usr/local/lib/python3.10/dist-packages/sklearn/svm/_base.py:299: ConvergenceWarning: Solver terminated early (max_iter=1000).  Consider pre-processing your data with StandardScaler or MinMaxScaler.\n",
            "  warnings.warn(\n",
            "/usr/local/lib/python3.10/dist-packages/sklearn/svm/_base.py:299: ConvergenceWarning: Solver terminated early (max_iter=1000).  Consider pre-processing your data with StandardScaler or MinMaxScaler.\n",
            "  warnings.warn(\n",
            "/usr/local/lib/python3.10/dist-packages/sklearn/svm/_base.py:299: ConvergenceWarning: Solver terminated early (max_iter=1000).  Consider pre-processing your data with StandardScaler or MinMaxScaler.\n",
            "  warnings.warn(\n",
            "/usr/local/lib/python3.10/dist-packages/sklearn/svm/_base.py:299: ConvergenceWarning: Solver terminated early (max_iter=1000).  Consider pre-processing your data with StandardScaler or MinMaxScaler.\n",
            "  warnings.warn(\n",
            "/usr/local/lib/python3.10/dist-packages/sklearn/svm/_base.py:299: ConvergenceWarning: Solver terminated early (max_iter=1000).  Consider pre-processing your data with StandardScaler or MinMaxScaler.\n",
            "  warnings.warn(\n",
            "/usr/local/lib/python3.10/dist-packages/sklearn/svm/_base.py:299: ConvergenceWarning: Solver terminated early (max_iter=1000).  Consider pre-processing your data with StandardScaler or MinMaxScaler.\n",
            "  warnings.warn(\n",
            "/usr/local/lib/python3.10/dist-packages/sklearn/ensemble/_base.py:166: FutureWarning: `base_estimator` was renamed to `estimator` in version 1.2 and will be removed in 1.4.\n",
            "  warnings.warn(\n",
            "/usr/local/lib/python3.10/dist-packages/sklearn/svm/_base.py:299: ConvergenceWarning: Solver terminated early (max_iter=1000).  Consider pre-processing your data with StandardScaler or MinMaxScaler.\n",
            "  warnings.warn(\n",
            "/usr/local/lib/python3.10/dist-packages/sklearn/svm/_base.py:299: ConvergenceWarning: Solver terminated early (max_iter=1000).  Consider pre-processing your data with StandardScaler or MinMaxScaler.\n",
            "  warnings.warn(\n",
            "/usr/local/lib/python3.10/dist-packages/sklearn/svm/_base.py:299: ConvergenceWarning: Solver terminated early (max_iter=1000).  Consider pre-processing your data with StandardScaler or MinMaxScaler.\n",
            "  warnings.warn(\n",
            "/usr/local/lib/python3.10/dist-packages/sklearn/svm/_base.py:299: ConvergenceWarning: Solver terminated early (max_iter=1000).  Consider pre-processing your data with StandardScaler or MinMaxScaler.\n",
            "  warnings.warn(\n",
            "/usr/local/lib/python3.10/dist-packages/sklearn/svm/_base.py:299: ConvergenceWarning: Solver terminated early (max_iter=1000).  Consider pre-processing your data with StandardScaler or MinMaxScaler.\n",
            "  warnings.warn(\n",
            "/usr/local/lib/python3.10/dist-packages/sklearn/svm/_base.py:299: ConvergenceWarning: Solver terminated early (max_iter=1000).  Consider pre-processing your data with StandardScaler or MinMaxScaler.\n",
            "  warnings.warn(\n",
            "/usr/local/lib/python3.10/dist-packages/sklearn/svm/_base.py:299: ConvergenceWarning: Solver terminated early (max_iter=1000).  Consider pre-processing your data with StandardScaler or MinMaxScaler.\n",
            "  warnings.warn(\n",
            "/usr/local/lib/python3.10/dist-packages/sklearn/svm/_base.py:299: ConvergenceWarning: Solver terminated early (max_iter=1000).  Consider pre-processing your data with StandardScaler or MinMaxScaler.\n",
            "  warnings.warn(\n",
            "/usr/local/lib/python3.10/dist-packages/sklearn/svm/_base.py:299: ConvergenceWarning: Solver terminated early (max_iter=1000).  Consider pre-processing your data with StandardScaler or MinMaxScaler.\n",
            "  warnings.warn(\n",
            "/usr/local/lib/python3.10/dist-packages/sklearn/svm/_base.py:299: ConvergenceWarning: Solver terminated early (max_iter=1000).  Consider pre-processing your data with StandardScaler or MinMaxScaler.\n",
            "  warnings.warn(\n"
          ]
        },
        {
          "name": "stdout",
          "output_type": "stream",
          "text": [
            "스태킹 학습 피처 데이터 Shape :  (12000, 13)\n",
            "스태킹 테스트 피처 데이터 Shape :  (3000, 13)\n",
            "\n",
            "Stacking Ensemble Accuracy : 0.9443\n"
          ]
        }
      ],
      "source": [
        "import numpy as np\n",
        "from sklearn.linear_model import LogisticRegression\n",
        "from sklearn.model_selection import StratifiedKFold\n",
        "from sklearn.metrics import accuracy_score\n",
        "from sklearn.base import clone\n",
        "from sklearn.preprocessing import StandardScaler\n",
        "\n",
        "base_models = [bagging_model, boosting_model, rf_model]\n",
        "meta_model = LogisticRegression(random_state=42, max_iter=20000)\n",
        "\n",
        "# 각 모델별로 데이터 셋 만들기\n",
        "aw_ensemble_pred_train = weighted_predict_ensemble(models, weights, X_train_flat)\n",
        "aw_ensemble_pred_test = weighted_predict_ensemble(models, weights, X_test_flat)\n",
        "aw_ensemble_pred_train_labels = np.argmax(aw_ensemble_pred_train, axis=1)\n",
        "aw_ensemble_pred_test_labels = np.argmax(aw_ensemble_pred_test, axis=1)\n",
        "\n",
        "voting_ensemble_pred_labels_train = majority_voting(models, X_train_flat)\n",
        "voting_ensemble_pred_labels_test = majority_voting(models, X_test_flat)\n",
        "\n",
        "def get_meta_features(models, X_train, y_train, X_test):\n",
        "    n_splits = 5\n",
        "    skf = StratifiedKFold(n_splits=n_splits, shuffle=True, random_state=42)\n",
        "\n",
        "    meta_train = np.zeros((len(y_train), len(models) * 3))  # 각 모델에 대해 각 클래스 확률 포함\n",
        "    meta_test = np.zeros((len(X_test), len(models) * 3))\n",
        "\n",
        "    for i, model in enumerate(models):\n",
        "        meta_test_fold = np.zeros((len(X_test), 3, n_splits))\n",
        "\n",
        "        for j, (train_index, val_index) in enumerate(skf.split(X_train, y_train)):\n",
        "            instance = clone(model)\n",
        "            instance.fit(X_train[train_index], y_train[train_index])\n",
        "\n",
        "            y_pred = instance.predict_proba(X_train[val_index])\n",
        "            meta_train[val_index, i * 3:(i + 1) * 3] = y_pred\n",
        "\n",
        "            meta_test_fold[:, :, j] = instance.predict_proba(X_test)\n",
        "\n",
        "        meta_test[:, i * 3:(i + 1) * 3] = meta_test_fold.mean(axis=2)\n",
        "\n",
        "    return meta_train, meta_test\n",
        "\n",
        "# 메타 피처 생성\n",
        "meta_train, meta_test = get_meta_features(base_models, X_train_flat, y_train, X_test_flat)\n",
        "\n",
        "# Weighted Averaging 및 Majority Voting 결과 추가\n",
        "meta_train = np.hstack((meta_train, aw_ensemble_pred_train, voting_ensemble_pred_labels_train.reshape(-1, 1)))\n",
        "meta_test = np.hstack((meta_test, aw_ensemble_pred_test, voting_ensemble_pred_labels_test.reshape(-1, 1)))\n",
        "\n",
        "print('스태킹 학습 피처 데이터 Shape : ', meta_train.shape)  # 13피처의수 == 세 개의 기본모델 3*3, weighted averaging 3 voting 1\n",
        "print('스태킹 테스트 피처 데이터 Shape : ', meta_test.shape)\n",
        "print()\n",
        "\n",
        "# 메타 모델 학습\n",
        "meta_model.fit(meta_train, y_train)\n",
        "final_pred = meta_model.predict(meta_test)\n",
        "meta_acc = accuracy_score(y_test, final_pred)\n",
        "print(f\"Stacking Ensemble Accuracy : {meta_acc:.4f}\")"
      ]
    },
    {
      "cell_type": "code",
      "execution_count": 29,
      "metadata": {
        "colab": {
          "base_uri": "https://localhost:8080/"
        },
        "id": "LNhfuUbDBDfk",
        "outputId": "a4d656b3-93fc-41d9-b07c-ed740c5784e6"
      },
      "outputs": [
        {
          "output_type": "stream",
          "name": "stdout",
          "text": [
            "Flatten Data : \n",
            "(12000, 1024)\n",
            "(3000, 1024)\n",
            "\n",
            "Normalized Data : \n",
            "[1. 1. 1. ... 1. 1. 1.]\n",
            "[1. 1. 1. ... 1. 1. 1.]\n",
            "0\n",
            "0\n",
            "\n",
            "One-Hot Encoded Data : \n",
            "[1. 0. 0.]\n",
            "[1. 0. 0.]\n"
          ]
        }
      ],
      "source": [
        "# MLP 학습\n",
        "import numpy as np\n",
        "import tensorflow as tf\n",
        "\n",
        "# MLP에서 이용가능한 형태로 가공 32*32\n",
        "X_train_re = X_train.reshape(12000, 1024)\n",
        "X_test_re = X_test.reshape(3000, 1024)\n",
        "print(\"Flatten Data : \")\n",
        "print(X_train_re.shape)\n",
        "print(X_test_re.shape)\n",
        "\n",
        "# ndarray로 변환하여 [0, 1] 구간으로 이동시키기\n",
        "X_train_re = X_train_re.astype('float32') / 255.0\n",
        "X_test_re = X_test_re.astype('float32') / 255.0\n",
        "print(\"\\nNormalized Data : \")\n",
        "print(X_train_re[0, :])\n",
        "print(X_test_re[0, :])\n",
        "\n",
        "print(y_train[0])\n",
        "print(y_test[0])\n",
        "# y 레이블을 원핫 코드로 변환하기\n",
        "y_train_re = tf.keras.utils.to_categorical(y_train, 3)  # 3은 클래스 개수\n",
        "y_test_re = tf.keras.utils.to_categorical(y_test, 3)\n",
        "print(\"\\nOne-Hot Encoded Data : \")\n",
        "print(y_train_re[0, :])\n",
        "print(y_test_re[0, :])"
      ]
    },
    {
      "cell_type": "code",
      "execution_count": 28,
      "metadata": {
        "colab": {
          "base_uri": "https://localhost:8080/"
        },
        "id": "Od6o_ClSRfrS",
        "outputId": "684d26cb-b01e-4b26-c2ca-42581633d951"
      },
      "outputs": [
        {
          "output_type": "stream",
          "name": "stdout",
          "text": [
            "Model: \"sequential_1\"\n",
            "_________________________________________________________________\n",
            " Layer (type)                Output Shape              Param #   \n",
            "=================================================================\n",
            " dense_2 (Dense)             (None, 128)               131200    \n",
            "                                                                 \n",
            " dense_3 (Dense)             (None, 3)                 387       \n",
            "                                                                 \n",
            "=================================================================\n",
            "Total params: 131587 (514.01 KB)\n",
            "Trainable params: 131587 (514.01 KB)\n",
            "Non-trainable params: 0 (0.00 Byte)\n",
            "_________________________________________________________________\n"
          ]
        }
      ],
      "source": [
        "# 신경망 설계\n",
        "from keras.models import Sequential\n",
        "from keras.layers import Dense\n",
        "from keras.optimizers import Adam\n",
        "\n",
        "\n",
        "n_input = X_train_re.shape[1]  # 1024\n",
        "n_hidden = [128]\n",
        "n_output = 3\n",
        "\n",
        "mlp_model = Sequential()\n",
        "mlp_model.add(Dense(units=n_hidden[0], activation='tanh',\n",
        "                    input_shape=(n_input,),\n",
        "                    kernel_initializer='random_uniform',\n",
        "                    bias_initializer='zeros'))\n",
        "mlp_model.add(Dense(units=n_output, activation='tanh',\n",
        "                    kernel_initializer='random_uniform',\n",
        "                    bias_initializer='zeros'))\n",
        "mlp_model.compile(loss='mean_squared_error',\n",
        "                  optimizer=Adam(learning_rate=0.001),\n",
        "                  metrics=['accuracy'])\n",
        "mlp_model.summary()\n"
      ]
    },
    {
      "cell_type": "code",
      "execution_count": 30,
      "metadata": {
        "colab": {
          "base_uri": "https://localhost:8080/"
        },
        "id": "9KcxD-l4U7vb",
        "outputId": "c6ba9bc8-5f4a-4901-b523-bc22613147f5"
      },
      "outputs": [
        {
          "output_type": "stream",
          "name": "stdout",
          "text": [
            "Epoch 1/50\n",
            "188/188 [==============================] - 2s 9ms/step - loss: 0.1346 - accuracy: 0.7318 - val_loss: 0.0911 - val_accuracy: 0.8350\n",
            "Epoch 2/50\n",
            "188/188 [==============================] - 1s 4ms/step - loss: 0.0830 - accuracy: 0.8517 - val_loss: 0.0782 - val_accuracy: 0.8630\n",
            "Epoch 3/50\n",
            "188/188 [==============================] - 1s 5ms/step - loss: 0.0743 - accuracy: 0.8701 - val_loss: 0.0728 - val_accuracy: 0.8737\n",
            "Epoch 4/50\n",
            "188/188 [==============================] - 1s 5ms/step - loss: 0.0681 - accuracy: 0.8813 - val_loss: 0.0669 - val_accuracy: 0.8823\n",
            "Epoch 5/50\n",
            "188/188 [==============================] - 1s 5ms/step - loss: 0.0641 - accuracy: 0.8880 - val_loss: 0.0647 - val_accuracy: 0.8833\n",
            "Epoch 6/50\n",
            "188/188 [==============================] - 1s 5ms/step - loss: 0.0604 - accuracy: 0.8970 - val_loss: 0.0604 - val_accuracy: 0.8960\n",
            "Epoch 7/50\n",
            "188/188 [==============================] - 1s 5ms/step - loss: 0.0581 - accuracy: 0.9009 - val_loss: 0.0592 - val_accuracy: 0.8953\n",
            "Epoch 8/50\n",
            "188/188 [==============================] - 1s 5ms/step - loss: 0.0553 - accuracy: 0.9062 - val_loss: 0.0611 - val_accuracy: 0.8983\n",
            "Epoch 9/50\n",
            "188/188 [==============================] - 1s 5ms/step - loss: 0.0534 - accuracy: 0.9108 - val_loss: 0.0556 - val_accuracy: 0.9060\n",
            "Epoch 10/50\n",
            "188/188 [==============================] - 1s 5ms/step - loss: 0.0521 - accuracy: 0.9111 - val_loss: 0.0575 - val_accuracy: 0.9067\n",
            "Epoch 11/50\n",
            "188/188 [==============================] - 1s 5ms/step - loss: 0.0511 - accuracy: 0.9152 - val_loss: 0.0580 - val_accuracy: 0.9060\n",
            "Epoch 12/50\n",
            "188/188 [==============================] - 1s 5ms/step - loss: 0.0493 - accuracy: 0.9207 - val_loss: 0.0592 - val_accuracy: 0.8913\n",
            "Epoch 13/50\n",
            "188/188 [==============================] - 1s 8ms/step - loss: 0.0477 - accuracy: 0.9215 - val_loss: 0.0610 - val_accuracy: 0.8913\n",
            "Epoch 14/50\n",
            "188/188 [==============================] - 1s 8ms/step - loss: 0.0464 - accuracy: 0.9253 - val_loss: 0.0554 - val_accuracy: 0.9097\n",
            "Epoch 15/50\n",
            "188/188 [==============================] - 2s 8ms/step - loss: 0.0455 - accuracy: 0.9247 - val_loss: 0.0512 - val_accuracy: 0.9100\n",
            "Epoch 16/50\n",
            "188/188 [==============================] - 2s 8ms/step - loss: 0.0448 - accuracy: 0.9294 - val_loss: 0.0484 - val_accuracy: 0.9117\n",
            "Epoch 17/50\n",
            "188/188 [==============================] - 1s 5ms/step - loss: 0.0423 - accuracy: 0.9328 - val_loss: 0.0487 - val_accuracy: 0.9207\n",
            "Epoch 18/50\n",
            "188/188 [==============================] - 1s 5ms/step - loss: 0.0444 - accuracy: 0.9315 - val_loss: 0.0496 - val_accuracy: 0.9170\n",
            "Epoch 19/50\n",
            "188/188 [==============================] - 1s 5ms/step - loss: 0.0414 - accuracy: 0.9367 - val_loss: 0.0505 - val_accuracy: 0.9167\n",
            "Epoch 20/50\n",
            "188/188 [==============================] - 1s 5ms/step - loss: 0.0427 - accuracy: 0.9349 - val_loss: 0.0471 - val_accuracy: 0.9210\n",
            "Epoch 21/50\n",
            "188/188 [==============================] - 1s 5ms/step - loss: 0.0422 - accuracy: 0.9354 - val_loss: 0.0511 - val_accuracy: 0.9177\n",
            "Epoch 22/50\n",
            "188/188 [==============================] - 2s 9ms/step - loss: 0.0392 - accuracy: 0.9413 - val_loss: 0.0559 - val_accuracy: 0.9070\n",
            "Epoch 23/50\n",
            "188/188 [==============================] - 1s 5ms/step - loss: 0.0395 - accuracy: 0.9418 - val_loss: 0.0506 - val_accuracy: 0.9100\n",
            "Epoch 24/50\n",
            "188/188 [==============================] - 1s 5ms/step - loss: 0.0375 - accuracy: 0.9463 - val_loss: 0.0543 - val_accuracy: 0.9160\n",
            "Epoch 25/50\n",
            "188/188 [==============================] - 1s 5ms/step - loss: 0.0385 - accuracy: 0.9423 - val_loss: 0.0471 - val_accuracy: 0.9193\n",
            "Epoch 26/50\n",
            "188/188 [==============================] - 1s 6ms/step - loss: 0.0380 - accuracy: 0.9450 - val_loss: 0.0471 - val_accuracy: 0.9213\n",
            "Epoch 27/50\n",
            "188/188 [==============================] - 2s 8ms/step - loss: 0.0371 - accuracy: 0.9466 - val_loss: 0.0471 - val_accuracy: 0.9180\n",
            "Epoch 28/50\n",
            "188/188 [==============================] - 2s 8ms/step - loss: 0.0362 - accuracy: 0.9485 - val_loss: 0.0454 - val_accuracy: 0.9257\n",
            "Epoch 29/50\n",
            "188/188 [==============================] - 2s 9ms/step - loss: 0.0351 - accuracy: 0.9492 - val_loss: 0.0439 - val_accuracy: 0.9253\n",
            "Epoch 30/50\n",
            "188/188 [==============================] - 1s 5ms/step - loss: 0.0340 - accuracy: 0.9541 - val_loss: 0.0465 - val_accuracy: 0.9227\n",
            "Epoch 31/50\n",
            "188/188 [==============================] - 1s 5ms/step - loss: 0.0344 - accuracy: 0.9530 - val_loss: 0.0433 - val_accuracy: 0.9303\n",
            "Epoch 32/50\n",
            "188/188 [==============================] - 1s 5ms/step - loss: 0.0336 - accuracy: 0.9529 - val_loss: 0.0427 - val_accuracy: 0.9287\n",
            "Epoch 33/50\n",
            "188/188 [==============================] - 1s 5ms/step - loss: 0.0327 - accuracy: 0.9558 - val_loss: 0.0479 - val_accuracy: 0.9170\n",
            "Epoch 34/50\n",
            "188/188 [==============================] - 1s 5ms/step - loss: 0.0331 - accuracy: 0.9544 - val_loss: 0.0522 - val_accuracy: 0.9127\n",
            "Epoch 35/50\n",
            "188/188 [==============================] - 1s 5ms/step - loss: 0.0328 - accuracy: 0.9552 - val_loss: 0.0443 - val_accuracy: 0.9280\n",
            "Epoch 36/50\n",
            "188/188 [==============================] - 1s 5ms/step - loss: 0.0327 - accuracy: 0.9549 - val_loss: 0.0480 - val_accuracy: 0.9153\n",
            "Epoch 37/50\n",
            "188/188 [==============================] - 1s 5ms/step - loss: 0.0330 - accuracy: 0.9573 - val_loss: 0.0471 - val_accuracy: 0.9160\n",
            "Epoch 38/50\n",
            "188/188 [==============================] - 1s 5ms/step - loss: 0.0309 - accuracy: 0.9583 - val_loss: 0.0488 - val_accuracy: 0.9167\n",
            "Epoch 39/50\n",
            "188/188 [==============================] - 1s 5ms/step - loss: 0.0307 - accuracy: 0.9592 - val_loss: 0.0439 - val_accuracy: 0.9210\n",
            "Epoch 40/50\n",
            "188/188 [==============================] - 1s 6ms/step - loss: 0.0324 - accuracy: 0.9582 - val_loss: 0.0456 - val_accuracy: 0.9177\n",
            "Epoch 41/50\n",
            "188/188 [==============================] - 1s 8ms/step - loss: 0.0317 - accuracy: 0.9594 - val_loss: 0.0454 - val_accuracy: 0.9193\n",
            "Epoch 42/50\n",
            "188/188 [==============================] - 2s 9ms/step - loss: 0.0311 - accuracy: 0.9598 - val_loss: 0.0454 - val_accuracy: 0.9240\n",
            "Epoch 43/50\n",
            "188/188 [==============================] - 2s 8ms/step - loss: 0.0311 - accuracy: 0.9613 - val_loss: 0.0526 - val_accuracy: 0.9193\n",
            "Epoch 44/50\n",
            "188/188 [==============================] - 1s 6ms/step - loss: 0.0301 - accuracy: 0.9622 - val_loss: 0.0525 - val_accuracy: 0.9150\n",
            "Epoch 45/50\n",
            "188/188 [==============================] - 1s 5ms/step - loss: 0.0300 - accuracy: 0.9613 - val_loss: 0.0470 - val_accuracy: 0.9150\n",
            "Epoch 46/50\n",
            "188/188 [==============================] - 1s 5ms/step - loss: 0.0294 - accuracy: 0.9613 - val_loss: 0.0439 - val_accuracy: 0.9257\n",
            "Epoch 47/50\n",
            "188/188 [==============================] - 1s 7ms/step - loss: 0.0302 - accuracy: 0.9606 - val_loss: 0.0452 - val_accuracy: 0.9283\n",
            "Epoch 48/50\n",
            "188/188 [==============================] - 2s 10ms/step - loss: 0.0290 - accuracy: 0.9634 - val_loss: 0.0444 - val_accuracy: 0.9253\n",
            "Epoch 49/50\n",
            "188/188 [==============================] - 1s 8ms/step - loss: 0.0281 - accuracy: 0.9646 - val_loss: 0.0464 - val_accuracy: 0.9217\n",
            "Epoch 50/50\n",
            "188/188 [==============================] - 1s 5ms/step - loss: 0.0281 - accuracy: 0.9658 - val_loss: 0.0431 - val_accuracy: 0.9267\n",
            "[Err, Acc] = :  [0.04312225431203842, 0.9266666769981384]\n"
          ]
        }
      ],
      "source": [
        "# 신경망 학습\n",
        "hist = mlp_model.fit(X_train_re, y_train_re, epochs=50, batch_size=64,\n",
        "                     validation_data=(X_test_re, y_test_re))\n",
        "\n",
        "res = mlp_model.evaluate(X_test_re, y_test_re, verbose=0)\n",
        "print(\"[Err, Acc] = : \", res)\n",
        "mlp_err, mlp_acc = res"
      ]
    },
    {
      "cell_type": "code",
      "execution_count": null,
      "metadata": {
        "colab": {
          "base_uri": "https://localhost:8080/",
          "height": 927
        },
        "id": "ALBtpEm76hls",
        "outputId": "f4b7b2ae-a3f1-4e18-a596-107f2c2bb903"
      },
      "outputs": [
        {
          "data": {
            "image/png": "[encoded data removed]",
            "text/plain": [
              "<Figure size 640x480 with 1 Axes>"
            ]
          },
          "metadata": {},
          "output_type": "display_data"
        },
        {
          "data": {
            "image/png": "[encoded data removed]",
            "text/plain": [
              "<Figure size 640x480 with 1 Axes>"
            ]
          },
          "metadata": {},
          "output_type": "display_data"
        }
      ],
      "source": [
        "import matplotlib.pyplot as plt\n",
        "# Accuracy Traning Curve\n",
        "plt.plot(hist.history['accuracy'])\n",
        "plt.plot(hist.history['val_accuracy'])\n",
        "plt.title('Model Accuracy')\n",
        "plt.ylabel('Accuracy')\n",
        "plt.xlabel('Epoch')\n",
        "plt.legend(['Train', 'Test'], loc='best')\n",
        "plt.grid()\n",
        "plt.show()\n",
        "\n",
        "# Loss Curve\n",
        "plt.plot(hist.history['loss'])\n",
        "plt.plot(hist.history['val_loss'])\n",
        "plt.title('Model Loss')\n",
        "plt.ylabel('Loss')\n",
        "plt.xlabel( 'Epoch')\n",
        "plt.legend(['Train', 'Test'], loc='best')\n",
        "plt.grid()\n",
        "plt.show()"
      ]
    },
    {
      "cell_type": "code",
      "execution_count": null,
      "metadata": {
        "colab": {
          "base_uri": "https://localhost:8080/",
          "height": 490
        },
        "id": "OVbC3zTxekh1",
        "outputId": "0da0a794-f8ac-4447-d405-9d589e7d3373"
      },
      "outputs": [
        {
          "name": "stdout",
          "output_type": "stream",
          "text": [
            "94/94 [==============================] - 0s 3ms/step\n"
          ]
        },
        {
          "data": {
            "image/png": "[encoded data removed]",
            "text/plain": [
              "<Figure size 640x480 with 1 Axes>"
            ]
          },
          "metadata": {},
          "output_type": "display_data"
        }
      ],
      "source": [
        "from sklearn.metrics import roc_curve, roc_auc_score\n",
        "from sklearn.preprocessing import label_binarize\n",
        "import matplotlib.pyplot as plt\n",
        "import numpy as np\n",
        "\n",
        "# y_test를 이진화\n",
        "y_test_bin = label_binarize(y_test, classes=[0, 1, 2])  # 0, 1, 2는 클래스 레이블\n",
        "\n",
        "# MLP 모델의 예측 확률 얻기\n",
        "preds_mlp_proba = mlp_model.predict(X_test_re)\n",
        "\n",
        "# 스태킹 모델의 예측 확률 얻기\n",
        "try:\n",
        "    stacking_proba = meta_model.predict_proba(meta_test)\n",
        "except AttributeError:\n",
        "    stacking_proba = meta_model.predict(meta_test)\n",
        "\n",
        "# 스태킹 모델의 예측 확률이 1차원 배열이면 2차원으로 reshape\n",
        "if stacking_proba.ndim == 1:\n",
        "    stacking_proba = stacking_proba.reshape(-1, 1)\n",
        "\n",
        "# 다중 클래스 ROC 곡선 그리기\n",
        "# 'micro' 평균을 사용하여 전체 ROC 곡선을 계산\n",
        "fpr_mlp, tpr_mlp, _ = roc_curve(y_test_bin.ravel(), preds_mlp_proba.ravel())\n",
        "roc_auc_mlp = roc_auc_score(y_test_bin, preds_mlp_proba, average='micro')\n",
        "\n",
        "fpr_stacking, tpr_stacking, _ = roc_curve(y_test_bin.ravel(), stacking_proba.ravel())\n",
        "roc_auc_stacking = roc_auc_score(y_test_bin, stacking_proba, average='micro')\n",
        "\n",
        "# 전체 ROC 곡선 그리기\n",
        "plt.plot(fpr_mlp, tpr_mlp, label=f'MLP Model (AUC = {roc_auc_mlp:.2f})')\n",
        "plt.plot(fpr_stacking, tpr_stacking, label=f'Stacking Model (AUC = {roc_auc_stacking:.2f})')\n",
        "\n",
        "# ROC 곡선 및 AUC 표시 설정\n",
        "plt.xlabel('False Positive Rate')\n",
        "plt.ylabel('True Positive Rate')\n",
        "plt.title('Overall ROC Curve')\n",
        "plt.legend()\n",
        "plt.grid(True)  # 그리드 추가\n",
        "plt.show()\n"
      ]
    },
    {
      "cell_type": "code",
      "execution_count": null,
      "metadata": {
        "colab": {
          "base_uri": "https://localhost:8080/"
        },
        "id": "ha9H92aBEleq",
        "outputId": "c2965432-c3fc-4ca0-bbf6-6efbcd8d9801"
      },
      "outputs": [
        {
          "name": "stdout",
          "output_type": "stream",
          "text": [
            "Model Accuracy Ranking:\n",
            "1. Stacking (Meta) Model: 0.9443\n",
            "2. Random Forest Model: 0.9390\n",
            "3. Weighted Averaging Ensemble: 0.9360\n",
            "4. Bagging Model: 0.9353\n",
            "5. Voting Ensemble: 0.9327\n",
            "6. MLP Model: 0.9307\n",
            "7. Boosting Model: 0.8807\n"
          ]
        }
      ],
      "source": [
        "# 모델 이름과 정확도를 딕셔너리에 저장\n",
        "accuracy_dict = {\n",
        "    'Bagging Model': bagging_acc,\n",
        "    'Boosting Model': boosting_acc,\n",
        "    'Random Forest Model': rf_acc,\n",
        "    'Weighted Averaging Ensemble': aw_ensemble_acc,\n",
        "    'Voting Ensemble': voting_ensemble_acc,\n",
        "    'Stacking (Meta) Model': meta_acc,\n",
        "    'MLP Model' : mlp_acc\n",
        "}\n",
        "\n",
        "# 정확도를 기준으로 딕셔너리를 정렬\n",
        "sorted_accuracy = sorted(accuracy_dict.items(), key=lambda item: item[1], reverse=True)\n",
        "\n",
        "# 정렬된 결과 출력\n",
        "print(\"Model Accuracy Ranking:\")\n",
        "for rank, (model, acc) in enumerate(sorted_accuracy, 1):\n",
        "    print(f\"{rank}. {model}: {acc:.4f}\")\n"
      ]
    },
    {
      "cell_type": "code",
      "execution_count": 1,
      "metadata": {
        "colab": {
          "base_uri": "https://localhost:8080/",
          "height": 221
        },
        "id": "bfwdSS2pWrkv",
        "outputId": "b7559b4c-4ab1-48af-90bf-fd476e36618f"
      },
      "outputs": [
        {
          "output_type": "error",
          "ename": "NameError",
          "evalue": "name 'bagging_model' is not defined",
          "traceback": [
            "\u001b[0;31m---------------------------------------------------------------------------\u001b[0m",
            "\u001b[0;31mNameError\u001b[0m                                 Traceback (most recent call last)",
            "\u001b[0;32m<ipython-input-1-3fd2ed0af55b>\u001b[0m in \u001b[0;36m<cell line: 25>\u001b[0;34m()\u001b[0m\n\u001b[1;32m     23\u001b[0m     \u001b[0;32mreturn\u001b[0m \u001b[0mmeta_train\u001b[0m\u001b[0;34m,\u001b[0m \u001b[0mmeta_test\u001b[0m\u001b[0;34m\u001b[0m\u001b[0;34m\u001b[0m\u001b[0m\n\u001b[1;32m     24\u001b[0m \u001b[0;34m\u001b[0m\u001b[0m\n\u001b[0;32m---> 25\u001b[0;31m \u001b[0mbs_models\u001b[0m \u001b[0;34m=\u001b[0m \u001b[0;34m[\u001b[0m\u001b[0mbagging_model\u001b[0m\u001b[0;34m,\u001b[0m \u001b[0mboosting_model\u001b[0m\u001b[0;34m,\u001b[0m \u001b[0mrf_model\u001b[0m\u001b[0;34m]\u001b[0m\u001b[0;34m\u001b[0m\u001b[0;34m\u001b[0m\u001b[0m\n\u001b[0m\u001b[1;32m     26\u001b[0m \u001b[0;31m# 교차 검증 설정\u001b[0m\u001b[0;34m\u001b[0m\u001b[0;34m\u001b[0m\u001b[0m\n\u001b[1;32m     27\u001b[0m \u001b[0mkf\u001b[0m \u001b[0;34m=\u001b[0m \u001b[0mStratifiedKFold\u001b[0m\u001b[0;34m(\u001b[0m\u001b[0mn_splits\u001b[0m\u001b[0;34m=\u001b[0m\u001b[0;36m5\u001b[0m\u001b[0;34m,\u001b[0m \u001b[0mshuffle\u001b[0m\u001b[0;34m=\u001b[0m\u001b[0;32mTrue\u001b[0m\u001b[0;34m,\u001b[0m \u001b[0mrandom_state\u001b[0m\u001b[0;34m=\u001b[0m\u001b[0;36m42\u001b[0m\u001b[0;34m)\u001b[0m\u001b[0;34m\u001b[0m\u001b[0;34m\u001b[0m\u001b[0m\n",
            "\u001b[0;31mNameError\u001b[0m: name 'bagging_model' is not defined"
          ]
        }
      ],
      "source": [
        "# 성능차 비교 t-test   MLP VS Stacking\n",
        "from sklearn.metrics import accuracy_score\n",
        "from scipy.stats import ttest_rel\n",
        "from sklearn.pipeline import Pipeline\n",
        "from sklearn.preprocessing import StandardScaler\n",
        "from sklearn.model_selection import StratifiedKFold\n",
        "import numpy as np\n",
        "from tensorflow.keras.utils import to_categorical\n",
        "from keras.models import Sequential\n",
        "from keras.layers import Dense\n",
        "from keras.optimizers import Adam\n",
        "import matplotlib.pyplot as plt\n",
        "from sklearn.metrics import roc_curve, roc_auc_score\n",
        "\n",
        "def get_meta(base_models, X_train, y_train, X_test):\n",
        "    meta_train = np.zeros((X_train.shape[0], len(base_models)*3))\n",
        "    meta_test = np.zeros((X_test.shape[0], len(base_models)*3))\n",
        "\n",
        "    for i, model in enumerate(base_models):\n",
        "        meta_train[:, i] = model.predict(X_train)\n",
        "        meta_test[:, i] = model.predict(X_test)\n",
        "\n",
        "    return meta_train, meta_test\n",
        "\n",
        "bs_models = [bagging_model, boosting_model, rf_model]\n",
        "# 교차 검증 설정\n",
        "kf = StratifiedKFold(n_splits=5, shuffle=True, random_state=42)\n",
        "stacking_scores = []\n",
        "mlp_scores = []\n",
        "\n",
        "# 교차 검증 수행\n",
        "for train_index, test_index in kf.split(X, y):\n",
        "    # 데이터 전처리\n",
        "    X_train, X_test = X[train_index], X[test_index]\n",
        "    y_train, y_test = y[train_index], y[test_index]\n",
        "    print(X_train.shape)\n",
        "    # 데이터 평탄화 및 정규화\n",
        "    X_train_flat = X_train.reshape((X_train.shape[0], -1)) / 255.0\n",
        "    X_test_flat = X_test.reshape((X_test.shape[0], -1)) / 255.0\n",
        "\n",
        "    scaler = StandardScaler()\n",
        "    X_train_scaled = scaler.fit_transform(X_train_flat)\n",
        "    X_test_scaled = scaler.transform(X_test_flat)\n",
        "\n",
        "\n",
        "    X_train_re = X_train.reshape(12000, 1024)\n",
        "    X_test_re = X_test.reshape(3000, 1024)\n",
        "\n",
        "    X_train_re = X_train_re.astype('float32') / 255.0\n",
        "    X_test_re = X_test_re.astype('float32') / 255.0\n",
        "    # 카테고리 데이터로 변환 (MLP용)\n",
        "    y_train_categorical = to_categorical(y_train, num_classes=3)\n",
        "    y_test_categorical = to_categorical(y_test, num_classes=3)\n",
        "\n",
        "    hist = mlp_model.fit(X_train_re, y_train_categorical, epochs=50, batch_size=64,\n",
        "                     validation_data=(X_test_re, y_test_categorical))\n",
        "    # MLP 모델 로드 및 평가\n",
        "    preds_mlp = mlp_model.predict(X_test_scaled)\n",
        "    preds_mlp_labels = np.argmax(preds_mlp, axis=1)\n",
        "    mlp_scores.append(accuracy_score(y_test, preds_mlp_labels))\n",
        "\n",
        "    for md in bs_models:\n",
        "      md.fit(X_train_scaled, y_train)\n",
        "    # 베이스 모델 로드 및 메타 피처 생성\n",
        "    meta_train1, meta_test1 = get_meta(bs_models, X_train_scaled, y_train, X_test_scaled)\n",
        "    aw_ensemble_pred_train = weighted_predict_ensemble(bs_models, weights, X_train_scaled)\n",
        "    aw_ensemble_pred_test = weighted_predict_ensemble(bs_models, weights, X_test_scaled)\n",
        "\n",
        "    voting_ensemble_pred_labels_train = majority_voting(bs_models, X_train_scaled)\n",
        "    voting_ensemble_pred_labels_test = majority_voting(bs_models, X_test_scaled)\n",
        "\n",
        "    # Weighted Averaging 및 Majority Voting 결과 추가\n",
        "    meta_train1 = np.hstack((meta_train1, aw_ensemble_pred_train, voting_ensemble_pred_labels_train.reshape(-1, 1)))\n",
        "    meta_test1 = np.hstack((meta_test1, aw_ensemble_pred_test, voting_ensemble_pred_labels_test.reshape(-1, 1)))\n",
        "    # 메타 모델 로드 및 평가\n",
        "    preds_stacking = meta_model.predict(meta_test1)\n",
        "    stacking_scores.append(accuracy_score(y_test, preds_stacking))\n",
        "\n",
        "# 교차 검증 결과 출력\n",
        "print(\"스태킹 모델 교차 검증 점수: \", stacking_scores)\n",
        "print(\"스태킹 모델 평균 정확도: \", np.mean(stacking_scores))\n",
        "print(\"MLP 모델 교차 검증 점수: \", mlp_scores)\n",
        "print(\"MLP 모델 평균 정확도: \", np.mean(mlp_scores))\n",
        "\n",
        "# t-검정을 사용하여 두 모델의 성능 비교\n",
        "t_stat, p_value = ttest_rel(stacking_scores, mlp_scores)\n",
        "print(f\"T-TEST 결과: t-statistic = {t_stat}, p-value = {p_value}\")"
      ]
    },
    {
      "cell_type": "code",
      "source": [
        "import numpy as np\n",
        "from scipy.stats import t, ttest_rel\n",
        "\n",
        "# 평균 차이와 표준 편차 계산\n",
        "mean_diff = np.mean(stacking_scores) - np.mean(mlp_scores)\n",
        "std_diff = np.std(stacking_scores - mlp_scores)\n",
        "print(f\"Mean Difference (Stacking - MLP): {mean_diff:.4f}, Standard Deviation of Difference: {std_diff:.4f}\")\n",
        "\n",
        "# 신뢰 수준 및 p-value에 따른 유의미성 판단\n",
        "confidence_levels = [90, 95, 99]\n",
        "p_thresholds = [0.1, 0.05, 0.01]\n",
        "\n",
        "# 자유도 계산 (n-1)\n",
        "df = len(stacking_scores) - 1\n",
        "\n",
        "for i, confidence_level in enumerate(confidence_levels):\n",
        "    # 양측 검정을 위한 t-임계값 계산\n",
        "    critical_t = t.ppf(1 - p_thresholds[i] / 2, df)\n",
        "    if abs(t_stat) > critical_t:\n",
        "        print(f\"At the {confidence_level}% confidence level (|t-stat| > {critical_t:.4f}), the difference in performance is statistically significant.\")\n",
        "    else:\n",
        "        print(f\"At the {confidence_level}% confidence level (|t-stat| <= {critical_t:.4f}), the difference in performance is not statistically significant.\")\n"
      ],
      "metadata": {
        "id": "r3WrlNJgN8B2"
      },
      "execution_count": null,
      "outputs": []
    }
  ],
  "metadata": {
    "colab": {
      "provenance": []
    },
    "kernelspec": {
      "display_name": "Python 3",
      "name": "python3"
    },
    "language_info": {
      "name": "python"
    }
  },
  "nbformat": 4,
  "nbformat_minor": 0
}